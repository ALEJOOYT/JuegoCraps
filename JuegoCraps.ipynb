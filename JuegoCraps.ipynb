{
  "cells": [
    {
      "cell_type": "markdown",
      "id": "30c53525",
      "metadata": {
        "id": "30c53525"
      },
      "source": [
        "\n",
        "# <center>Escuela Militar de Ingeniería</center>\n",
        "<center>Ingeniería de Sistemas</center>\n",
        "<center><img src=\"https://i.servimg.com/u/f73/20/03/60/99/logo_i12.jpg\" width=\"300\"></center>\n",
        "<center>Estudiante: Zalles Merino Izai Alejandro</center>\n",
        "<center>Código SAGA: A27006-7</center>\n",
        "\n",
        "## <center>Docente: Ing. Angela Santos</center>\n",
        "## Fecha: 11 de Abril de 2025\n"
      ]
    },
    {
      "cell_type": "code",
      "execution_count": 2,
      "id": "97c235ed",
      "metadata": {
        "id": "97c235ed"
      },
      "outputs": [],
      "source": [
        "# Función para lanzar un dado\n",
        "LanzarDado <- function() {\n",
        "  sample(1:6, 1, replace = TRUE)\n",
        "}"
      ]
    },
    {
      "cell_type": "code",
      "source": [
        "# Función para lanzar dos dados y mostrar el resultado\n",
        "LanzarDosDados <- function() {\n",
        "  dado1 <- LanzarDado()\n",
        "  dado2 <- LanzarDado()\n",
        "  sumaDados <- dado1 + dado2\n",
        "  cat(\"🎲 Dados: \", dado1, \" + \", dado2, \" = \", sumaDados, \"\\n\")\n",
        "  return(sumaDados)\n",
        "}"
      ],
      "metadata": {
        "id": "aqfM3pcoF5Ia"
      },
      "id": "aqfM3pcoF5Ia",
      "execution_count": 3,
      "outputs": []
    },
    {
      "cell_type": "code",
      "source": [
        "# Primera ronda del juego\n",
        "PrimeraRonda <- function() {\n",
        "  sumaInicial <- LanzarDosDados()\n",
        "\n",
        "  if (sumaInicial %in% c(7, 11)) {\n",
        "    cat(\"🎉 ¡Ganaste en la primera ronda!\\n\")\n",
        "    return(\"gano\")\n",
        "  } else if (sumaInicial %in% c(2, 3, 12)) {\n",
        "    cat(\"💀 Craps... Perdiste en la primera ronda.\\n\")\n",
        "    return(\"perdio\")\n",
        "  } else {\n",
        "    cat(\"📍 Tu punto es:\", sumaInicial, \"\\n\")\n",
        "    return(sumaInicial)\n",
        "  }\n",
        "}"
      ],
      "metadata": {
        "id": "OWu8uG0oF5WV"
      },
      "id": "OWu8uG0oF5WV",
      "execution_count": 4,
      "outputs": []
    },
    {
      "cell_type": "code",
      "source": [
        "# Rondas siguientes si se define un punto\n",
        "JugarHastaResolver <- function(punto) {\n",
        "  repeat {\n",
        "    sumaActual <- LanzarDosDados()\n",
        "\n",
        "    if (sumaActual == punto) {\n",
        "      cat(\"🏆 ¡Has igualado el punto! Ganaste.\\n\")\n",
        "      return(\"gano\")\n",
        "    } else if (sumaActual == 7) {\n",
        "      cat(\"💣 Salió un 7. Perdiste.\\n\")\n",
        "      return(\"perdio\")\n",
        "    }\n",
        "  }\n",
        "}"
      ],
      "metadata": {
        "id": "lQqTGMwkF5dq"
      },
      "id": "lQqTGMwkF5dq",
      "execution_count": 5,
      "outputs": []
    },
    {
      "cell_type": "code",
      "source": [
        "# Función principal del juego\n",
        "JugarCraps <- function() {\n",
        "  resultado <- PrimeraRonda()\n",
        "\n",
        "  if (is.numeric(resultado)) {\n",
        "    resultado <- JugarHastaResolver(resultado)\n",
        "  }\n",
        "\n",
        "  return(resultado)\n",
        "}"
      ],
      "metadata": {
        "id": "Lsc41o2zF5k7"
      },
      "id": "Lsc41o2zF5k7",
      "execution_count": 6,
      "outputs": []
    },
    {
      "cell_type": "code",
      "source": [
        "# Ejecutar la primera partida automáticamente\n",
        "cat(\"📌 Iniciando partida...\\n\\n\")\n",
        "JugarCraps()\n",
        "cat(\"\\n\")\n",
        "\n",
        "# Luego preguntar si desea continuar\n",
        "respuesta <- readline(prompt = \"¿Quieres jugar otra partida? (s/n): \")\n",
        "\n",
        "while (tolower(respuesta) == \"s\") {\n",
        "  cat(\"\\n📌 Nueva partida...\\n\\n\")\n",
        "  JugarCraps()\n",
        "  cat(\"\\n\")\n",
        "  respuesta <- readline(prompt = \"¿Quieres jugar otra partida? (s/n): \")\n",
        "}\n",
        "\n",
        "cat(\"🎲 Fin del juego. ¡Gracias por jugar!\\n\")"
      ],
      "metadata": {
        "colab": {
          "base_uri": "https://localhost:8080/"
        },
        "id": "ACIdp457F5rC",
        "outputId": "9dcc6885-04da-44af-8752-2dcca975b201"
      },
      "id": "ACIdp457F5rC",
      "execution_count": 14,
      "outputs": [
        {
          "output_type": "stream",
          "name": "stdout",
          "text": [
            "📌 Iniciando partidas...\n",
            "\n",
            "¿Quieres jugar otra partida? (s/n): s\n",
            "¿Quieres jugar otra partida? (s/n): s\n",
            "¿Quieres jugar otra partida? (s/n): s\n",
            "¿Quieres jugar otra partida? (s/n): n\n",
            "🎲 Dados:  3  +  5  =  8 \n",
            "📍 Tu punto es: 8 \n",
            "🎲 Dados:  3  +  1  =  4 \n",
            "🎲 Dados:  3  +  5  =  8 \n",
            "🏆 ¡Has igualado el punto! Ganaste.\n",
            "\n",
            "🎲 Dados:  2  +  1  =  3 \n",
            "💀 Craps... Perdiste en la primera ronda.\n",
            "\n",
            "🎲 Dados:  2  +  2  =  4 \n",
            "📍 Tu punto es: 4 \n",
            "🎲 Dados:  1  +  3  =  4 \n",
            "🏆 ¡Has igualado el punto! Ganaste.\n",
            "\n",
            "🎲 Dados:  5  +  1  =  6 \n",
            "📍 Tu punto es: 6 \n",
            "🎲 Dados:  3  +  4  =  7 \n",
            "💣 Salió un 7. Perdiste.\n",
            "\n",
            "🎲 Fin del juego. ¡Gracias por jugar!\n"
          ]
        }
      ]
    }
  ],
  "metadata": {
    "colab": {
      "provenance": []
    },
    "kernelspec": {
      "name": "ir",
      "display_name": "R"
    },
    "language_info": {
      "name": "R"
    }
  },
  "nbformat": 4,
  "nbformat_minor": 5
}