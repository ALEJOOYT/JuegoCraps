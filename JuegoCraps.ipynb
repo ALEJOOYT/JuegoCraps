{
  "cells": [
    {
      "cell_type": "markdown",
      "metadata": {
        "id": "view-in-github",
        "colab_type": "text"
      },
      "source": [
        "<a href=\"https://colab.research.google.com/github/ALEJOOYT/JuegoCraps/blob/main/JuegoCraps.ipynb\" target=\"_parent\"><img src=\"https://colab.research.google.com/assets/colab-badge.svg\" alt=\"Open In Colab\"/></a>"
      ]
    },
    {
      "cell_type": "markdown",
      "id": "30c53525",
      "metadata": {
        "id": "30c53525"
      },
      "source": [
        "\n",
        "# <center>Escuela Militar de Ingeniería</center>\n",
        "<center>Ingeniería de Sistemas</center>\n",
        "<center><img src=\"https://i.servimg.com/u/f73/20/03/60/99/logo_i12.jpg\" width=\"300\"></center>\n",
        "<center>Estudiante: Zalles Merino Izai Alejandro</center>\n",
        "<center>Código SAGA: A27006-7</center>\n",
        "\n",
        "## <center>Docente: Ing. Angela Santos</center>\n",
        "## Fecha: 11 de Abril de 2025\n"
      ]
    },
    {
      "cell_type": "code",
      "execution_count": 17,
      "id": "97c235ed",
      "metadata": {
        "id": "97c235ed"
      },
      "outputs": [],
      "source": [
        "# Función para lanzar un dado\n",
        "LanzarDado <- function() {\n",
        "  sample(1:6, 1, replace = TRUE)\n",
        "}"
      ]
    },
    {
      "cell_type": "code",
      "source": [
        "# Función para lanzar dos dados y mostrar el resultado\n",
        "LanzarDosDados <- function() {\n",
        "  dado1 <- LanzarDado()\n",
        "  dado2 <- LanzarDado()\n",
        "  sumaDados <- dado1 + dado2\n",
        "  cat(\"🎲 Dados: \", dado1, \" + \", dado2, \" = \", sumaDados, \"\\n\")\n",
        "  return(sumaDados)\n",
        "}"
      ],
      "metadata": {
        "id": "aqfM3pcoF5Ia"
      },
      "id": "aqfM3pcoF5Ia",
      "execution_count": 18,
      "outputs": []
    },
    {
      "cell_type": "code",
      "source": [
        "# Primera ronda del juego\n",
        "PrimeraRonda <- function() {\n",
        "  sumaInicial <- LanzarDosDados()\n",
        "\n",
        "  if (sumaInicial %in% c(7, 11)) {\n",
        "    cat(\"🎉 ¡Ganaste en la primera ronda!\\n\")\n",
        "    return(\"gano\")\n",
        "  } else if (sumaInicial %in% c(2, 3, 12)) {\n",
        "    cat(\"💀 Craps... Perdiste en la primera ronda.\\n\")\n",
        "    return(\"perdio\")\n",
        "  } else {\n",
        "    cat(\"📍 Tu punto es:\", sumaInicial, \"\\n\")\n",
        "    return(sumaInicial)\n",
        "  }\n",
        "}"
      ],
      "metadata": {
        "id": "OWu8uG0oF5WV"
      },
      "id": "OWu8uG0oF5WV",
      "execution_count": 19,
      "outputs": []
    },
    {
      "cell_type": "code",
      "source": [
        "# Rondas siguientes si se define un punto\n",
        "JugarHastaResolver <- function(punto) {\n",
        "  repeat {\n",
        "    sumaActual <- LanzarDosDados()\n",
        "\n",
        "    if (sumaActual == punto) {\n",
        "      cat(\"🏆 ¡Has igualado el punto! Ganaste.\\n\")\n",
        "      return(\"gano\")\n",
        "    } else if (sumaActual == 7) {\n",
        "      cat(\"💣 Salió un 7. Perdiste.\\n\")\n",
        "      return(\"perdio\")\n",
        "    }\n",
        "  }\n",
        "}"
      ],
      "metadata": {
        "id": "lQqTGMwkF5dq"
      },
      "id": "lQqTGMwkF5dq",
      "execution_count": 20,
      "outputs": []
    },
    {
      "cell_type": "code",
      "source": [
        "# Función principal del juego\n",
        "JugarCraps <- function() {\n",
        "  resultado <- PrimeraRonda()\n",
        "\n",
        "  if (is.numeric(resultado)) {\n",
        "    resultado <- JugarHastaResolver(resultado)\n",
        "  }\n",
        "\n",
        "  return(resultado)\n",
        "}"
      ],
      "metadata": {
        "id": "Lsc41o2zF5k7"
      },
      "id": "Lsc41o2zF5k7",
      "execution_count": 21,
      "outputs": []
    },
    {
      "cell_type": "code",
      "source": [
        "# Ejecutar la primera partida automáticamente\n",
        "cat(\"📌 Iniciando partida...\\n\\n\")\n",
        "JugarCraps()\n",
        "cat(\"\\n\")\n",
        "\n",
        "# Luego preguntar si desea continuar\n",
        "respuesta <- readline(prompt = \"¿Quieres jugar otra partida? (s/n): \")\n",
        "\n",
        "while (tolower(respuesta) == \"s\") {\n",
        "  cat(\"\\n📌 Nueva partida...\\n\\n\")\n",
        "  JugarCraps()\n",
        "  cat(\"\\n\")\n",
        "  respuesta <- readline(prompt = \"¿Quieres jugar otra partida? (s/n): \")\n",
        "}\n",
        "\n",
        "cat(\"🎲 Fin del juego. ¡Gracias por jugar!\\n\")"
      ],
      "metadata": {
        "colab": {
          "base_uri": "https://localhost:8080/",
          "height": 386
        },
        "id": "ACIdp457F5rC",
        "outputId": "b93c153c-fe6e-4b5b-8ace-b3693b472b8d"
      },
      "id": "ACIdp457F5rC",
      "execution_count": null,
      "outputs": [
        {
          "output_type": "stream",
          "name": "stdout",
          "text": [
            "📌 Iniciando partida...\n",
            "\n",
            "🎲 Dados:  4  +  5  =  9 \n",
            "📍 Tu punto es: 9 \n",
            "🎲 Dados:  5  +  5  =  10 \n",
            "🎲 Dados:  5  +  3  =  8 \n",
            "🎲 Dados:  1  +  1  =  2 \n",
            "🎲 Dados:  4  +  2  =  6 \n",
            "🎲 Dados:  6  +  4  =  10 \n",
            "🎲 Dados:  4  +  2  =  6 \n",
            "🎲 Dados:  2  +  4  =  6 \n",
            "🎲 Dados:  6  +  5  =  11 \n",
            "🎲 Dados:  2  +  1  =  3 \n",
            "🎲 Dados:  2  +  4  =  6 \n",
            "🎲 Dados:  3  +  2  =  5 \n",
            "🎲 Dados:  3  +  4  =  7 \n",
            "💣 Salió un 7. Perdiste.\n"
          ]
        },
        {
          "output_type": "display_data",
          "data": {
            "text/html": [
              "'perdio'"
            ],
            "text/markdown": "'perdio'",
            "text/latex": "'perdio'",
            "text/plain": [
              "[1] \"perdio\""
            ]
          },
          "metadata": {}
        },
        {
          "output_type": "stream",
          "name": "stdout",
          "text": [
            "\n"
          ]
        }
      ]
    }
  ],
  "metadata": {
    "colab": {
      "provenance": [],
      "include_colab_link": true
    },
    "kernelspec": {
      "name": "ir",
      "display_name": "R"
    },
    "language_info": {
      "name": "R"
    }
  },
  "nbformat": 4,
  "nbformat_minor": 5
}