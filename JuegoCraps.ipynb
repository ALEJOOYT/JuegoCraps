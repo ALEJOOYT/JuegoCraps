{
  "cells": [
    {
      "cell_type": "markdown",
      "id": "30c53525",
      "metadata": {
        "id": "30c53525"
      },
      "source": [
        "\n",
        "# <center>Escuela Militar de Ingeniería</center>\n",
        "<center>Ingeniería de Sistemas</center>\n",
        "<center><img src=\"https://i.servimg.com/u/f73/20/03/60/99/logo_i12.jpg\" width=\"300\"></center>\n",
        "<center>Estudiante: Zalles Merino Izai Alejandro</center>\n",
        "<center>Código SAGA: A27006-7</center>\n",
        "\n",
        "## <center>Docente: Ing. Angela Santos</center>\n",
        "## Fecha: 11 de Abril de 2025\n"
      ]
    },
    {
      "cell_type": "code",
      "execution_count": 17,
      "id": "97c235ed",
      "metadata": {
        "id": "97c235ed"
      },
      "outputs": [],
      "source": [
        "# Función para lanzar un dado\n",
        "LanzarDado <- function() {\n",
        "  sample(1:6, 1, replace = TRUE)\n",
        "}"
      ]
    },
    {
      "cell_type": "code",
      "source": [
        "# Función para lanzar dos dados y mostrar el resultado\n",
        "LanzarDosDados <- function() {\n",
        "  dado1 <- LanzarDado()\n",
        "  dado2 <- LanzarDado()\n",
        "  sumaDados <- dado1 + dado2\n",
        "  cat(\"🎲 Dados: \", dado1, \" + \", dado2, \" = \", sumaDados, \"\\n\")\n",
        "  return(sumaDados)\n",
        "}"
      ],
      "metadata": {
        "id": "aqfM3pcoF5Ia"
      },
      "id": "aqfM3pcoF5Ia",
      "execution_count": 18,
      "outputs": []
    },
    {
      "cell_type": "code",
      "source": [
        "# Primera ronda del juego\n",
        "PrimeraRonda <- function() {\n",
        "  sumaInicial <- LanzarDosDados()\n",
        "\n",
        "  if (sumaInicial %in% c(7, 11)) {\n",
        "    cat(\"🎉 ¡Ganaste en la primera ronda!\\n\")\n",
        "    return(\"gano\")\n",
        "  } else if (sumaInicial %in% c(2, 3, 12)) {\n",
        "    cat(\"💀 Craps... Perdiste en la primera ronda.\\n\")\n",
        "    return(\"perdio\")\n",
        "  } else {\n",
        "    cat(\"📍 Tu punto es:\", sumaInicial, \"\\n\")\n",
        "    return(sumaInicial)\n",
        "  }\n",
        "}"
      ],
      "metadata": {
        "id": "OWu8uG0oF5WV"
      },
      "id": "OWu8uG0oF5WV",
      "execution_count": 19,
      "outputs": []
    },
    {
      "cell_type": "code",
      "source": [
        "# Rondas siguientes si se define un punto\n",
        "JugarHastaResolver <- function(punto) {\n",
        "  repeat {\n",
        "    sumaActual <- LanzarDosDados()\n",
        "\n",
        "    if (sumaActual == punto) {\n",
        "      cat(\"🏆 ¡Has igualado el punto! Ganaste.\\n\")\n",
        "      return(\"gano\")\n",
        "    } else if (sumaActual == 7) {\n",
        "      cat(\"💣 Salió un 7. Perdiste.\\n\")\n",
        "      return(\"perdio\")\n",
        "    }\n",
        "  }\n",
        "}"
      ],
      "metadata": {
        "id": "lQqTGMwkF5dq"
      },
      "id": "lQqTGMwkF5dq",
      "execution_count": 20,
      "outputs": []
    },
    {
      "cell_type": "code",
      "source": [
        "# Función principal del juego\n",
        "JugarCraps <- function() {\n",
        "  resultado <- PrimeraRonda()\n",
        "\n",
        "  if (is.numeric(resultado)) {\n",
        "    resultado <- JugarHastaResolver(resultado)\n",
        "  }\n",
        "\n",
        "  return(resultado)\n",
        "}"
      ],
      "metadata": {
        "id": "Lsc41o2zF5k7"
      },
      "id": "Lsc41o2zF5k7",
      "execution_count": 21,
      "outputs": []
    },
    {
      "cell_type": "code",
      "source": [
        "# Ejecutar la primera partida automáticamente\n",
        "cat(\"📌 Iniciando partida...\\n\\n\")\n",
        "JugarCraps()\n",
        "cat(\"\\n\")\n",
        "\n",
        "# Luego preguntar si desea continuar\n",
        "repeat {\n",
        "  respuesta <- readline(prompt = \"¿Quieres jugar otra partida? (s/n): \")\n",
        "\n",
        "  if (tolower(respuesta) != \"s\") {\n",
        "    cat(\"🎲 Fin del juego. ¡Gracias por jugar!\\n\")\n",
        "    break\n",
        "  }\n",
        "\n",
        "  cat(\"\\n📌 Nueva partida...\\n\\n\")\n",
        "  JugarCraps()\n",
        "  cat(\"\\n\")\n",
        "}\n"
      ],
      "metadata": {
        "colab": {
          "base_uri": "https://localhost:8080/",
          "height": 351
        },
        "id": "ACIdp457F5rC",
        "outputId": "9af2a510-c4c2-4755-fa9e-c97a67857fc3"
      },
      "id": "ACIdp457F5rC",
      "execution_count": 23,
      "outputs": [
        {
          "output_type": "stream",
          "name": "stdout",
          "text": [
            "📌 Iniciando partida...\n",
            "\n",
            "🎲 Dados:  4  +  5  =  9 \n",
            "📍 Tu punto es: 9 \n",
            "🎲 Dados:  4  +  3  =  7 \n",
            "💣 Salió un 7. Perdiste.\n"
          ]
        },
        {
          "output_type": "display_data",
          "data": {
            "text/html": [
              "'perdio'"
            ],
            "text/markdown": "'perdio'",
            "text/latex": "'perdio'",
            "text/plain": [
              "[1] \"perdio\""
            ]
          },
          "metadata": {}
        },
        {
          "name": "stdout",
          "output_type": "stream",
          "text": [
            "\n",
            "¿Quieres jugar otra partida? (s/n): s\n",
            "¿Quieres jugar otra partida? (s/n): s\n",
            "¿Quieres jugar otra partida? (s/n): s\n",
            "¿Quieres jugar otra partida? (s/n): s\n",
            "¿Quieres jugar otra partida? (s/n): s\n",
            "¿Quieres jugar otra partida? (s/n): s\n",
            "¿Quieres jugar otra partida? (s/n): s\n",
            "¿Quieres jugar otra partida? (s/n): s\n",
            "¿Quieres jugar otra partida? (s/n): s\n"
          ]
        }
      ]
    }
  ],
  "metadata": {
    "colab": {
      "provenance": []
    },
    "kernelspec": {
      "name": "ir",
      "display_name": "R"
    },
    "language_info": {
      "name": "R"
    }
  },
  "nbformat": 4,
  "nbformat_minor": 5
}