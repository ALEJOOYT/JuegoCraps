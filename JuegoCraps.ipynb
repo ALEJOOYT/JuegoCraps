{
  "cells": [
    {
      "cell_type": "markdown",
      "id": "30c53525",
      "metadata": {
        "id": "30c53525"
      },
      "source": [
        "\n",
        "# <center>Escuela Militar de Ingeniería</center>\n",
        "<center>Ingeniería de Sistemas</center>\n",
        "<center><img src=\"https://i.servimg.com/u/f73/20/03/60/99/logo_i12.jpg\" width=\"300\"></center>\n",
        "<center>Estudiante: Zalles Merino Izai Alejandro</center>\n",
        "<center>Código SAGA: A27006-7</center>\n",
        "\n",
        "## <center>Docente: Ing. Angela Santos</center>\n",
        "## Fecha: 11 de Abril de 2025\n"
      ]
    },
    {
      "cell_type": "code",
      "execution_count": null,
      "id": "97c235ed",
      "metadata": {
        "id": "97c235ed"
      },
      "outputs": [],
      "source": [
        "\n",
        "# Función para lanzar un dado\n",
        "LanzarDado <- function() {\n",
        "  sample(1:6, 1, replace = TRUE)\n",
        "}\n",
        "\n",
        "# Función para lanzar dos dados y mostrar el resultado\n",
        "LanzarDosDados <- function() {\n",
        "  dado1 <- LanzarDado()\n",
        "  dado2 <- LanzarDado()\n",
        "  sumaDados <- dado1 + dado2\n",
        "  cat(\"🎲 Dados: \", dado1, \" + \", dado2, \" = \", sumaDados, \"\\n\")\n",
        "  return(sumaDados)\n",
        "}\n",
        "\n",
        "# Primera ronda del juego\n",
        "PrimeraRonda <- function() {\n",
        "  sumaInicial <- LanzarDosDados()\n",
        "\n",
        "  if (sumaInicial %in% c(7, 11)) {\n",
        "    cat(\"🎉 ¡Ganaste en la primera ronda!\\n\")\n",
        "    return(\"gano\")\n",
        "  } else if (sumaInicial %in% c(2, 3, 12)) {\n",
        "    cat(\"💀 Craps... Perdiste en la primera ronda.\\n\")\n",
        "    return(\"perdio\")\n",
        "  } else {\n",
        "    cat(\"📍 Tu punto es:\", sumaInicial, \"\\n\")\n",
        "    return(sumaInicial)\n",
        "  }\n",
        "}\n",
        "\n",
        "# Rondas siguientes si se define un punto\n",
        "JugarHastaResolver <- function(punto) {\n",
        "  repeat {\n",
        "    sumaActual <- LanzarDosDados()\n",
        "\n",
        "    if (sumaActual == punto) {\n",
        "      cat(\"🏆 ¡Has igualado el punto! Ganaste.\\n\")\n",
        "      return(\"gano\")\n",
        "    } else if (sumaActual == 7) {\n",
        "      cat(\"💣 Salió un 7. Perdiste.\\n\")\n",
        "      return(\"perdio\")\n",
        "    }\n",
        "  }\n",
        "}\n",
        "\n",
        "# Función principal del juego\n",
        "JugarCraps <- function() {\n",
        "  resultado <- PrimeraRonda()\n",
        "\n",
        "  if (is.numeric(resultado)) {\n",
        "    resultado <- JugarHastaResolver(resultado)\n",
        "  }\n",
        "\n",
        "  return(resultado)\n",
        "}\n",
        "\n",
        "# Ejecutar varias partidas\n",
        "cat(\"📌 Iniciando partidas...\\n\\n\")\n",
        "JugarCraps()\n",
        "cat(\"\\n\")\n",
        "JugarCraps()\n",
        "cat(\"\\n\")\n",
        "JugarCraps()\n",
        "cat(\"\\n\")\n",
        "JugarCraps()\n"
      ]
    }
  ],
  "metadata": {
    "colab": {
      "provenance": []
    }
  },
  "nbformat": 4,
  "nbformat_minor": 5
}